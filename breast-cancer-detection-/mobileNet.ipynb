{
 "cells": [
  {
   "cell_type": "code",
   "execution_count": 2,
   "metadata": {},
   "outputs": [],
   "source": [
    "import os\n",
    "import numpy as np\n",
    "import matplotlib.pyplot as plt\n",
    "import seaborn as sns\n",
    "from PIL import Image\n",
    "from sklearn.model_selection import train_test_split\n",
    "from sklearn.metrics import classification_report, confusion_matrix\n",
    "from tensorflow.keras.preprocessing.image import ImageDataGenerator\n",
    "from tensorflow.keras.models import Model\n",
    "from tensorflow.keras.layers import Conv2D, MaxPooling2D, Flatten, Dense, Dropout, GlobalAveragePooling2D, Input\n",
    "from tensorflow.keras.utils import to_categorical\n",
    "from tensorflow.keras.optimizers import Adam\n",
    "from tensorflow.keras.callbacks import ReduceLROnPlateau, EarlyStopping\n",
    "from tensorflow.keras.applications import MobileNetV2\n",
    "import tensorflow as tf\n",
    "import tensorflow.keras.backend as K\n",
    "from tensorflow.keras.applications.mobilenet_v2 import preprocess_input as mobilenet_preprocess\n",
    "\n"
   ]
  },
  {
   "cell_type": "code",
   "execution_count": 3,
   "metadata": {},
   "outputs": [],
   "source": [
    "# Set the seed for reproducibility\n",
    "seed = 42\n",
    "np.random.seed(seed)\n",
    "tf.random.set_seed(seed)"
   ]
  },
  {
   "cell_type": "code",
   "execution_count": 4,
   "metadata": {},
   "outputs": [],
   "source": [
    "# Define image size and batch size\n",
    "IMG_SIZE = (224, 224)\n",
    "BATCH_SIZE = 5\n",
    "EPOCHS = 50"
   ]
  },
  {
   "cell_type": "code",
   "execution_count": 5,
   "metadata": {},
   "outputs": [],
   "source": [
    "# Function to split dataset into train, validation, and test sets\n",
    "def split_data(base_dir):\n",
    "    all_data = []\n",
    "    categories = os.listdir(base_dir)\n",
    "    for category in categories:\n",
    "        category_path = os.path.join(base_dir, category)\n",
    "        images = os.listdir(category_path)\n",
    "        for img in images:\n",
    "            img_path = os.path.join(category_path, img)\n",
    "            all_data.append((img_path, category))\n",
    "    \n",
    "    # Convert to numpy array for easier splitting\n",
    "    all_data = np.array(all_data)\n",
    "    train_data, test_data = train_test_split(all_data, test_size=0.2, stratify=all_data[:, 1])\n",
    "    train_data, val_data = train_test_split(train_data, test_size=0.20, stratify=train_data[:, 1])\n",
    "    \n",
    "    return train_data, val_data, test_data"
   ]
  },
  {
   "cell_type": "code",
   "execution_count": 6,
   "metadata": {},
   "outputs": [],
   "source": [
    "# Function to prepare data generators\n",
    "def prepare_data_generators(train_data, val_data, test_data, class_indices):\n",
    "    datagen = ImageDataGenerator(preprocessing_function=mobilenet_preprocess)\n",
    "\n",
    "    def create_generator(data, datagen):\n",
    "        x, y = zip(*data)\n",
    "        x = np.array([np.array(Image.open(img).resize(IMG_SIZE)) for img in x])\n",
    "        y = np.array([class_indices[label] for label in y])\n",
    "        y = to_categorical(y, num_classes=len(class_indices))\n",
    "        return datagen.flow(x, y, batch_size=BATCH_SIZE, shuffle=False)\n",
    "\n",
    "    train_generator = create_generator(train_data, datagen)\n",
    "    val_generator = create_generator(val_data, datagen)\n",
    "    test_generator = create_generator(test_data, datagen)\n",
    "\n",
    "    return train_generator, val_generator, test_generator"
   ]
  },
  {
   "cell_type": "code",
   "execution_count": 7,
   "metadata": {},
   "outputs": [],
   "source": [
    "# Function to build the model using DenseNet169\n",
    "def build_model(input_shape, num_classes):\n",
    "    base_model = MobileNetV2(include_top=False, weights='imagenet', input_shape=input_shape)\n",
    "    base_model.trainable = False  # Freeze the base model\n",
    "\n",
    "    inputs = Input(shape=input_shape)\n",
    "    x = base_model(inputs, training=False)\n",
    "    x = GlobalAveragePooling2D()(x)\n",
    "    x = Dense(128, activation='relu')(x)\n",
    "    x = Dropout(0.2)(x)\n",
    "    outputs = Dense(num_classes, activation='softmax')(x)\n",
    "\n",
    "    model = Model(inputs, outputs)\n",
    "    model.compile(optimizer=Adam(learning_rate=0.001), loss='categorical_crossentropy', metrics=['accuracy'])\n",
    "    return model\n"
   ]
  },
  {
   "cell_type": "code",
   "execution_count": 8,
   "metadata": {},
   "outputs": [],
   "source": [
    "# Function to evaluate the model\n",
    "def evaluate_model(model, test_generator, true_labels, class_indices):\n",
    "    test_loss, test_accuracy = model.evaluate(test_generator)\n",
    "    print(f'Test Accuracy: {test_accuracy:.2f}')\n",
    "\n",
    "    test_generator.reset()\n",
    "    batch_size = test_generator.batch_size\n",
    "    steps = None  # Iterate indefinitely over the data until steps_per_epoch is reached\n",
    "\n",
    "    predictions = model.predict(test_generator, steps=steps)\n",
    "    num_samples = len(predictions)\n",
    "    predicted_labels = np.argmax(predictions, axis=1)\n",
    "\n",
    "    class_labels = list(class_indices.keys())\n",
    "\n",
    "    report = classification_report(true_labels, predicted_labels, target_names=class_labels)\n",
    "    print('Classification Report:')\n",
    "    print(report)\n",
    "\n",
    "    conf_matrix = confusion_matrix(true_labels, predicted_labels)\n",
    "    print('Confusion Matrix:')\n",
    "    print(conf_matrix)\n",
    "\n",
    "    plt.figure(figsize=(6, 4))\n",
    "    sns.heatmap(conf_matrix, annot=True, fmt='d', cmap='Blues', xticklabels=class_labels, yticklabels=class_labels)\n",
    "    plt.xlabel('Predicted')\n",
    "    plt.ylabel('True')\n",
    "    plt.title('Confusion Matrix')\n",
    "    plt.show()\n"
   ]
  },
  {
   "cell_type": "code",
   "execution_count": 9,
   "metadata": {},
   "outputs": [],
   "source": [
    "# Function to generate saliency maps\n",
    "def generate_saliency_map(model, img_array, class_index):\n",
    "    img_array = tf.convert_to_tensor(img_array)\n",
    "    with tf.GradientTape() as tape:\n",
    "        tape.watch(img_array)\n",
    "        predictions = model(img_array)\n",
    "        loss = predictions[:, class_index]\n",
    "    gradients = tape.gradient(loss, img_array)\n",
    "    saliency = tf.reduce_max(tf.abs(gradients), axis=-1)\n",
    "    return saliency[0]"
   ]
  },
  {
   "cell_type": "code",
   "execution_count": 10,
   "metadata": {},
   "outputs": [],
   "source": [
    "# Function to generate Grad-CAM\n",
    "def get_gradcam_model(model, layer_name):\n",
    "    mob_model = model.get_layer('mobilenetv2_1.00_224')\n",
    "    conv_layer = mob_model.get_layer(layer_name).output\n",
    "    grad_model = Model(inputs=model.inputs, outputs=[conv_layer, model.output])\n",
    "    return grad_model\n",
    "\n",
    "def generate_gradcam_heatmap(grad_model, img_array, class_idx, pred_index=None):\n",
    "    with tf.GradientTape() as tape:\n",
    "        conv_outputs, predictions = grad_model(img_array)\n",
    "        if pred_index is None:\n",
    "            pred_index = tf.argmax(predictions[0])\n",
    "        class_channel = predictions[:, pred_index]\n",
    "\n",
    "    grads = tape.gradient(class_channel, conv_outputs)\n",
    "    pooled_grads = tf.reduce_mean(grads, axis=(0, 1, 2))\n",
    "\n",
    "    conv_outputs = conv_outputs[0]\n",
    "    heatmap = conv_outputs @ pooled_grads[..., tf.newaxis]\n",
    "    heatmap = tf.squeeze(heatmap)\n",
    "\n",
    "    heatmap = tf.maximum(heatmap, 0) / tf.math.reduce_max(heatmap)\n",
    "    return heatmap.numpy()\n",
    "\n",
    "def display_gradcam(img_path, heatmap, alpha=0.4):\n",
    "    img = np.array(Image.open(img_path).resize(IMG_SIZE))\n",
    "    heatmap = np.uint8(255 * heatmap)\n",
    "    jet = plt.get_cmap(\"jet\")\n",
    "\n",
    "    jet_colors = jet(np.arange(256))[:, :3]\n",
    "    jet_heatmap = jet_colors[heatmap]\n",
    "\n",
    "    jet_heatmap = tf.keras.preprocessing.image.array_to_img(jet_heatmap)\n",
    "    jet_heatmap = jet_heatmap.resize((img.shape[1], img.shape[0]))\n",
    "    jet_heatmap = tf.keras.preprocessing.image.img_to_array(jet_heatmap)\n",
    "\n",
    "    superimposed_img = jet_heatmap * alpha + img\n",
    "    superimposed_img = tf.keras.preprocessing.image.array_to_img(superimposed_img)\n",
    "\n",
    "    return superimposed_img\n"
   ]
  },
  {
   "cell_type": "code",
   "execution_count": 11,
   "metadata": {},
   "outputs": [],
   "source": [
    "# Main training and evaluation loop for each dataset\n",
    "base_path = './DatasetMark2'\n",
    "\n",
    "train_data, val_data, test_data = split_data(base_path)\n",
    "\n",
    "# Determine class indices from the dataset\n",
    "class_indices = {category: idx for idx, category in enumerate(os.listdir(base_path))}\n",
    "num_classes = len(class_indices)\n",
    "\n",
    "train_generator, val_generator, test_generator = prepare_data_generators(train_data, val_data, test_data, class_indices)\n",
    "\n",
    "input_shape = (IMG_SIZE[0], IMG_SIZE[1], 3)\n",
    "\n",
    "model = build_model(input_shape, num_classes)\n",
    "model.summary()\n",
    "\n",
    "# Dummy call to build the model\n",
    "dummy_input = np.zeros((1, IMG_SIZE[0], IMG_SIZE[1], 3))\n",
    "model.predict(dummy_input)\n",
    "\n",
    "# Define callbacks\n",
    "reduce_lr = ReduceLROnPlateau(monitor='val_loss', factor=0.2, patience=3, min_lr=0.0001)\n",
    "early_stopping = EarlyStopping(monitor='val_loss', patience=5, restore_best_weights=True)\n",
    "\n",
    "history = model.fit(\n",
    "    train_generator,\n",
    "    validation_data=val_generator,\n",
    "    epochs=EPOCHS,\n",
    "    callbacks=[reduce_lr, early_stopping]\n",
    ")"
   ]
  },
  {
   "cell_type": "code",
   "execution_count": null,
   "metadata": {},
   "outputs": [
    {
     "ename": "",
     "evalue": "",
     "output_type": "error",
     "traceback": [
      "\u001b[1;31mFailed to start the Kernel. \n",
      "\u001b[1;31mUnable to start Kernel 'Python 3.10.10' due to a timeout waiting for the ports to get used. \n",
      "\u001b[1;31mView Jupyter <a href='command:jupyter.viewOutput'>log</a> for further details."
     ]
    }
   ],
   "source": [
    "# Plot training history\n",
    "plt.plot(history.history['accuracy'], label='train accuracy')\n",
    "plt.plot(history.history['val_accuracy'], label='validation accuracy')\n",
    "# plt.plot(history.history['loss'], label='train loss')\n",
    "# plt.plot(history.history['val_loss'], label='validation loss')\n",
    "plt.xlabel('Epochs')\n",
    "plt.ylabel('Accuracy')\n",
    "plt.legend()\n",
    "plt.show()"
   ]
  },
  {
   "cell_type": "code",
   "execution_count": null,
   "metadata": {},
   "outputs": [
    {
     "ename": "",
     "evalue": "",
     "output_type": "error",
     "traceback": [
      "\u001b[1;31mFailed to start the Kernel. \n",
      "\u001b[1;31mUnable to start Kernel 'Python 3.10.10' due to a timeout waiting for the ports to get used. \n",
      "\u001b[1;31mView Jupyter <a href='command:jupyter.viewOutput'>log</a> for further details."
     ]
    }
   ],
   "source": [
    "# plt.plot(history.history['accuracy'], label='train accuracy')\n",
    "# plt.plot(history.history['val_accuracy'], label='validation accuracy')\n",
    "plt.plot(history.history['loss'], label='train loss')\n",
    "plt.plot(history.history['val_loss'], label='validation loss')\n",
    "plt.xlabel('Epochs')\n",
    "plt.ylabel('Accuracy')\n",
    "plt.legend()\n",
    "plt.show()"
   ]
  },
  {
   "cell_type": "code",
   "execution_count": null,
   "metadata": {},
   "outputs": [
    {
     "ename": "",
     "evalue": "",
     "output_type": "error",
     "traceback": [
      "\u001b[1;31mFailed to start the Kernel. \n",
      "\u001b[1;31mUnable to start Kernel 'Python 3.10.10' due to a timeout waiting for the ports to get used. \n",
      "\u001b[1;31mView Jupyter <a href='command:jupyter.viewOutput'>log</a> for further details."
     ]
    }
   ],
   "source": [
    "# Extract true labels for evaluation\n",
    "true_labels = np.array([class_indices[label] for (_, label) in test_data])\n",
    "# Evaluate the model\n",
    "evaluate_model(model, test_generator, true_labels, class_indices)"
   ]
  },
  {
   "cell_type": "code",
   "execution_count": null,
   "metadata": {},
   "outputs": [
    {
     "ename": "",
     "evalue": "",
     "output_type": "error",
     "traceback": [
      "\u001b[1;31mFailed to start the Kernel. \n",
      "\u001b[1;31mUnable to start Kernel 'Python 3.10.10' due to a timeout waiting for the ports to get used. \n",
      "\u001b[1;31mView Jupyter <a href='command:jupyter.viewOutput'>log</a> for further details."
     ]
    }
   ],
   "source": [
    "\n",
    "# Saliency maps and attention visualizations\n",
    "# last_conv_layer_name = 'block_16_project'  # Adjust based on DenseNet169 last conv layer\n",
    "# grad_model = get_gradcam_model(model, last_conv_layer_name)\n",
    "\n",
    "for img_path, true_label in test_data[:5]:  # Visualize for first 5 test images\n",
    "    img_array = np.expand_dims(np.array(Image.open(img_path).resize(IMG_SIZE)) / 255.0, axis=0)\n",
    "    class_index = class_indices[true_label]\n",
    "\n",
    "    # Generate saliency map\n",
    "    saliency = generate_saliency_map(model, img_array, class_index)\n",
    "\n",
    "    # Generate Grad-CAM\n",
    "    # heatmap = generate_gradcam_heatmap(grad_model, img_array, class_index, last_conv_layer_name)\n",
    "\n",
    "    # Display images\n",
    "    fig, axes = plt.subplots(1, 2, figsize=(6, 3))\n",
    "    \n",
    "    # Original image\n",
    "    original_img = np.array(Image.open(img_path).resize(IMG_SIZE))\n",
    "    axes[0].imshow(original_img)\n",
    "    axes[0].axis('off')\n",
    "    axes[0].set_title('Original Image')\n",
    "    \n",
    "    # Saliency map\n",
    "    axes[1].imshow(saliency, cmap='hot')\n",
    "    axes[1].axis('off')\n",
    "    axes[1].set_title('Saliency Map')\n",
    "    \n",
    "    # # Grad-CAM\n",
    "    # gradcam_img = display_gradcam(img_path, heatmap)\n",
    "    # axes[2].imshow(gradcam_img)\n",
    "    # axes[2].axis('off')\n",
    "    # axes[2].set_title('Grad-CAM')\n",
    "    \n",
    "    plt.suptitle(f'Visualization for {true_label}')\n",
    "    plt.show()"
   ]
  },
  {
   "cell_type": "code",
   "execution_count": null,
   "metadata": {},
   "outputs": [
    {
     "ename": "",
     "evalue": "",
     "output_type": "error",
     "traceback": [
      "\u001b[1;31mFailed to start the Kernel. \n",
      "\u001b[1;31mUnable to start Kernel 'Python 3.10.10' due to a timeout waiting for the ports to get used. \n",
      "\u001b[1;31mView Jupyter <a href='command:jupyter.viewOutput'>log</a> for further details."
     ]
    }
   ],
   "source": [
    "# tf.keras.models.save_model(model,'mobile.h5')"
   ]
  }
 ],
 "metadata": {
  "kernelspec": {
   "display_name": ".venv",
   "language": "python",
   "name": "python3"
  },
  "language_info": {
   "codemirror_mode": {
    "name": "ipython",
    "version": 3
   },
   "file_extension": ".py",
   "mimetype": "text/x-python",
   "name": "python",
   "nbconvert_exporter": "python",
   "pygments_lexer": "ipython3",
   "version": "3.10.10"
  }
 },
 "nbformat": 4,
 "nbformat_minor": 2
}
